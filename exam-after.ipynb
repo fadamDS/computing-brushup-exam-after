{
 "cells": [
  {
   "cell_type": "markdown",
   "metadata": {
    "ein.tags": "worksheet-0",
    "slideshow": {
     "slide_type": "-"
    }
   },
   "source": [
    "# Problem 1: Data with R"
   ]
  },
  {
   "cell_type": "code",
   "execution_count": 1,
   "metadata": {
    "autoscroll": false,
    "ein.hycell": false,
    "ein.tags": "worksheet-0",
    "slideshow": {
     "slide_type": "-"
    }
   },
   "outputs": [],
   "source": [
    "%load_ext rpy2.ipython"
   ]
  },
  {
   "cell_type": "code",
   "execution_count": 2,
   "metadata": {
    "autoscroll": false,
    "ein.hycell": false,
    "ein.tags": "worksheet-0",
    "slideshow": {
     "slide_type": "-"
    }
   },
   "outputs": [
    {
     "name": "stderr",
     "output_type": "stream",
     "text": [
      "/opt/conda/lib/python3.6/site-packages/rpy2/rinterface/__init__.py:186: RRuntimeWarning: Loading tidyverse: ggplot2\n",
      "Loading tidyverse: tibble\n",
      "Loading tidyverse: tidyr\n",
      "Loading tidyverse: readr\n",
      "Loading tidyverse: purrr\n",
      "Loading tidyverse: dplyr\n",
      "\n",
      "  warnings.warn(x, RRuntimeWarning)\n",
      "/opt/conda/lib/python3.6/site-packages/rpy2/rinterface/__init__.py:186: RRuntimeWarning: Conflicts with tidy packages ---------------------------------------------------\n",
      "\n",
      "  warnings.warn(x, RRuntimeWarning)\n",
      "/opt/conda/lib/python3.6/site-packages/rpy2/rinterface/__init__.py:186: RRuntimeWarning: filter(): dplyr, stats\n",
      "lag():    dplyr, stats\n",
      "\n",
      "  warnings.warn(x, RRuntimeWarning)\n"
     ]
    }
   ],
   "source": [
    "%%R\n",
    "\n",
    "library(tidyverse)"
   ]
  },
  {
   "cell_type": "code",
   "execution_count": 3,
   "metadata": {
    "autoscroll": false,
    "ein.hycell": false,
    "ein.tags": "worksheet-0",
    "slideshow": {
     "slide_type": "-"
    }
   },
   "outputs": [
    {
     "name": "stderr",
     "output_type": "stream",
     "text": [
      "/opt/conda/lib/python3.6/site-packages/rpy2/rinterface/__init__.py:186: RRuntimeWarning: Parsed with column specification:\n",
      "cols(\n",
      "  X = col_double(),\n",
      "  label = col_integer()\n",
      ")\n",
      "\n",
      "  warnings.warn(x, RRuntimeWarning)\n"
     ]
    }
   ],
   "source": [
    "%%R\n",
    "# make sure to get your data in the same folder, next to the notebook file\n",
    "# so that this will run!\n",
    "\n",
    "\n",
    "dat <- read_csv('classification_data.csv')"
   ]
  },
  {
   "cell_type": "code",
   "execution_count": 9,
   "metadata": {
    "autoscroll": false,
    "ein.hycell": false,
    "ein.tags": "worksheet-0",
    "slideshow": {
     "slide_type": "-"
    }
   },
   "outputs": [
    {
     "data": {
      "image/png": "[encoded data removed]"
     },
     "metadata": {},
     "output_type": "display_data"
    }
   ],
   "source": [
    "%%R\n",
    "\n",
    "# Your data consists of an \"X\" column and a \"label\" column\n",
    "# Use ggplot to plot a kernel density estimate of each label (overlayed on the same plot)\n",
    "# hint: don't forget to make sure the labels are factors!\n",
    "\n",
    "# Converting to factor\n",
    "dat$label <- as.factor(dat$label)\n",
    "\n",
    "# Kernel density estimate of the two groups 0 and 1\n",
    "ggplot(dat, aes(x =X, fill = label)) + geom_density()"
   ]
  },
  {
   "cell_type": "markdown",
   "metadata": {
    "ein.tags": "worksheet-0",
    "slideshow": {
     "slide_type": "-"
    }
   },
   "source": [
    "# Problem 2: Using Classes in Python"
   ]
  },
  {
   "cell_type": "code",
   "execution_count": 13,
   "metadata": {
    "autoscroll": false,
    "ein.hycell": false,
    "ein.tags": "worksheet-0",
    "slideshow": {
     "slide_type": "-"
    }
   },
   "outputs": [],
   "source": [
    "from abc import ABC, abstractmethod\n",
    "from math import sqrt\n",
    "\n",
    "def smart_zip(a,b):\n",
    "    try:\n",
    "        return zip(a, b)\n",
    "    except TypeError:\n",
    "        return zip([a], [b])\n",
    "\n",
    "class AbstractKNeighbors(ABC):\n",
    "    def __init__(self, K):\n",
    "        self.K = K\n",
    "\n",
    "    def fit(self, X, y):\n",
    "        \"\"\" Train the model!\n",
    "\n",
    "        X should be a list of data points\n",
    "        y should be a list of labels\n",
    "        \"\"\"\n",
    "        self.X = X\n",
    "        self.y = y\n",
    "        return self\n",
    "\n",
    "    @abstractmethod\n",
    "    def _make_prediction(self, labels):\n",
    "        pass\n",
    "\n",
    "    def predict(self, new_x):\n",
    "        \"\"\"Find the nearest K neighbors\n",
    "        \n",
    "        new_x should be a single data point\n",
    "        \"\"\"\n",
    "        dists = [sqrt(sum(([(i-j)**2 for i,j in smart_zip(x,new_x)])))\n",
    "                 for x in self.X]\n",
    "        sorted_neighbors = sorted(enumerate(dists),\n",
    "                                  key=lambda t: t[1])\n",
    "        labels = [self.y[i] for i,_ in sorted_neighbors]\n",
    "        return self._make_prediction(labels)\n",
    "\n",
    "\n",
    "class KNearestNeighbors(AbstractKNeighbors):\n",
    "    def _make_prediction(self, labels):\n",
    "        avg = sum(labels[:self.K])/self.K\n",
    "        return round(avg)\n",
    "\n",
    "class KFurthestNeighbors(AbstractKNeighbors):\n",
    "    def _make_prediction(self, labels):\n",
    "        avg = sum(labels[-self.K:])/self.K\n",
    "        return round(1 - avg)"
   ]
  },
  {
   "cell_type": "code",
   "execution_count": 18,
   "metadata": {
    "autoscroll": false,
    "ein.hycell": false,
    "ein.tags": "worksheet-0",
    "slideshow": {
     "slide_type": "-"
    }
   },
   "outputs": [],
   "source": [
    "from csv import reader\n",
    "\n",
    "with open('classification_data.csv', 'r') as f:\n",
    "    dat = list(reader(f))[1:]\n",
    "    dat = [[float(x), int(label)] for x,label in dat]"
   ]
  },
  {
   "cell_type": "markdown",
   "metadata": {
    "ein.tags": "worksheet-0",
    "slideshow": {
     "slide_type": "-"
    }
   },
   "source": [
    "## Problem 2.1: Shuffling!"
   ]
  },
  {
   "cell_type": "code",
   "execution_count": 20,
   "metadata": {
    "autoscroll": false,
    "ein.hycell": false,
    "ein.tags": "worksheet-0",
    "slideshow": {
     "slide_type": "-"
    }
   },
   "outputs": [],
   "source": [
    "# In your data, \"X\" is a data point that is nothing more than\n",
    "# a single number. \n",
    "# Shuffle your data into a random order (use random.shuffle!)\n",
    "\n",
    "# Importing random\n",
    "import random\n",
    "\n",
    "# Shuffling the data\n",
    "random.shuffle(dat)"
   ]
  },
  {
   "cell_type": "code",
   "execution_count": 21,
   "metadata": {
    "autoscroll": false,
    "ein.hycell": false,
    "ein.tags": "worksheet-0",
    "slideshow": {
     "slide_type": "-"
    }
   },
   "outputs": [],
   "source": [
    "# If you shuffled your data, this test should pass\n",
    "# (i.e. not throw an error)\n",
    "\n",
    "assert(sum([label for x,label in dat[:50]]) != 0)"
   ]
  },
  {
   "cell_type": "markdown",
   "metadata": {
    "ein.tags": "worksheet-0",
    "slideshow": {
     "slide_type": "-"
    }
   },
   "source": [
    "## Problem 2.2: Splitting!"
   ]
  },
  {
   "cell_type": "code",
   "execution_count": 92,
   "metadata": {
    "autoscroll": false,
    "ein.hycell": false,
    "ein.tags": "worksheet-0",
    "slideshow": {
     "slide_type": "-"
    }
   },
   "outputs": [],
   "source": [
    "# Split your data, which is now a list, into 2 sublists:\n",
    "# \"train\" and \"test\"\n",
    "# The \"train\" group should have 700 elements\n",
    "# The test group should have 300 elements\n",
    "# Each group should have the same format as the original data\n",
    "\n",
    "nr_train = 700\n",
    "nr_test = len(dat) - nr_train\n",
    "\n",
    "train = dat[0:nr_train]\n",
    "test = dat[nr_train:(nr_test+nr_train)]\n",
    "\n"
   ]
  },
  {
   "cell_type": "code",
   "execution_count": 93,
   "metadata": {
    "autoscroll": false,
    "ein.hycell": false,
    "ein.tags": "worksheet-0",
    "slideshow": {
     "slide_type": "-"
    }
   },
   "outputs": [],
   "source": [
    "# Now you will need to make another split, within the groups!\n",
    "# For each group (\"train\" and \"test\") split the X's from the labels.\n",
    "train_X = []\n",
    "train_y = []\n",
    "test_X = []\n",
    "test_y = []\n",
    "\n",
    "\n",
    "# Splitting the training set\n",
    "for i in range(0,len(train)):\n",
    "    \n",
    "    x = train[i][0]\n",
    "    train_X.append(x)\n",
    "    \n",
    "    y = train[i][1]\n",
    "    train_y.append(y)\n",
    "    \n",
    "    \n",
    "\n",
    "# Splitting the testing set\n",
    "for i in range(0,len(test)):\n",
    "    x = test[i][0]\n",
    "    test_X.append(x)\n",
    "    \n",
    "    y = test[i][1]\n",
    "    test_y.append(y)\n"
   ]
  },
  {
   "cell_type": "markdown",
   "metadata": {
    "ein.tags": "worksheet-0",
    "slideshow": {
     "slide_type": "-"
    }
   },
   "source": [
    "## Problem 2.3: Testing models!"
   ]
  },
  {
   "cell_type": "code",
   "execution_count": 84,
   "metadata": {
    "autoscroll": false,
    "ein.hycell": false,
    "ein.tags": "worksheet-0",
    "slideshow": {
     "slide_type": "-"
    }
   },
   "outputs": [],
   "source": [
    "# For each model: \n",
    "# 1. Create an instance the class, with constructor parameters: K=5\n",
    "# 2. Train the instance on the \"train\" groups X's and labels (y's)\n",
    "# 3. Test how well the instance does: \n",
    "#    A. Use the trained instance to predict the label of each \"X\" in the \"test\" group\n",
    "#    B. Use your \"test\" labels to see if the predicted label is equal the true label\n",
    "\n",
    "# 1. Creating an instances for each model\n",
    "knn = KNearestNeighbors(5)\n",
    "furthestNeighbor = KFurthestNeighbors(5)\n",
    "\n",
    "# Fitting nearest neighbor\n",
    "knn.fit(train_X, train_y)\n",
    "\n",
    "# Fitting furthes neighbor\n",
    "furthestNeighbor.fit(train_X,train_y)\n",
    "\n",
    "# Predictions are always just a single point -> loop\n",
    "\n",
    "knn_predictions = []\n",
    "furthest_predictions = []\n",
    "\n",
    "for i in range(0,len(test_X)):\n",
    "    \n",
    "    # For KNN\n",
    "    knn_predicted_label = knn.predict(test_X[i])\n",
    "    knn_predictions.append(knn_predicted_label)\n",
    "    \n",
    "    # For furthest Neighbor\n",
    "    furthest_predicted_label = furthestNeighbor.predict(test_X[i])\n",
    "    furthest_predictions.append(furthest_predicted_label)"
   ]
  },
  {
   "cell_type": "code",
   "execution_count": 85,
   "metadata": {},
   "outputs": [],
   "source": [
    "# Predictions are always just a single point -> loop\n",
    "\n",
    "knn_predictions = []\n",
    "furthest_predictions = []\n",
    "\n",
    "for i in range(0,len(test_X)):\n",
    "    \n",
    "    # For KNN\n",
    "    knn_predicted_label = knn.predict(test_X[i])\n",
    "    knn_predictions.append(knn_predicted_label)\n",
    "    \n",
    "    # For furthest Neighbor\n",
    "    furthest_predicted_label = furthestNeighbor.predict(test_X[i])\n",
    "    furthest_predictions.append(furthest_predicted_label)\n"
   ]
  },
  {
   "cell_type": "code",
   "execution_count": 86,
   "metadata": {},
   "outputs": [],
   "source": [
    "outcome = []\n",
    "\n",
    "for i in range(0,len(test_y)):\n",
    "    if test_y[i] == furthest_predictions[i]:\n",
    "        outcome.append(1)\n",
    "    else:\n",
    "        outcome.append(0)\n",
    "\n",
    "correct_knn = sum([ x==y for (x,y) in zip(test_y, knn_predictions)])\n",
    "correct_furthest = sum([ x==y for (x,y) in zip(test_y, furthest_predictions)])\n"
   ]
  },
  {
   "cell_type": "code",
   "execution_count": 96,
   "metadata": {
    "autoscroll": false,
    "ein.hycell": false,
    "ein.tags": "worksheet-0",
    "slideshow": {
     "slide_type": "-"
    }
   },
   "outputs": [
    {
     "name": "stdout",
     "output_type": "stream",
     "text": [
      "KNN accuracy 0.680000000 %\n",
      "Furthest Neighbors accuracy 0.683333333 %\n"
     ]
    }
   ],
   "source": [
    "# Compare the two classes of models!\n",
    "\n",
    "print(\"KNN accuracy \"+ \"{:.9f}\".format(correct_knn/len(test_y)) + \" %\")\n",
    "print(\"Furthest Neighbors accuracy \"+ \"{:.9f}\".format(correct_furthest/len(test_y)) + \" %\")"
   ]
  },
  {
   "cell_type": "markdown",
   "metadata": {},
   "source": [
    "#### Comparision\n",
    "\n",
    "Both models have an accuracy of approx. 68 percent. "
   ]
  }
 ],
 "metadata": {
  "kernelspec": {
   "display_name": "Python 3",
   "language": "python",
   "name": "python3"
  },
  "language_info": {
   "codemirror_mode": {
    "name": "ipython",
    "version": 3
   },
   "file_extension": ".py",
   "mimetype": "text/x-python",
   "name": "python",
   "nbconvert_exporter": "python",
   "pygments_lexer": "ipython3",
   "version": "3.6.3"
  },
  "name": "Untitled.ipynb"
 },
 "nbformat": 4,
 "nbformat_minor": 2
}
